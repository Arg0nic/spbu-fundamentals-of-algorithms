{
 "cells": [
  {
   "cell_type": "markdown",
   "metadata": {},
   "source": [
    "# Networkx\n",
    "\n",
    "* Пакет для Python для манипулирования графиками и их анализа\n",
    "* Содержит множество стандатных алгоритмов для графов"
   ]
  },
  {
   "cell_type": "code",
   "execution_count": null,
   "metadata": {},
   "outputs": [],
   "source": [
    "import networkx as nx\n",
    "import numpy as np\n",
    "import matplotlib.pyplot as plt\n",
    "import matplotlib.colors as colors"
   ]
  },
  {
   "cell_type": "markdown",
   "metadata": {},
   "source": [
    "## Создание графов"
   ]
  },
  {
   "cell_type": "markdown",
   "metadata": {},
   "source": [
    "Networkx поддерживает неориентированные/ориентированные графы/мультиграфы (мультиграфы позволяют одной паре узлов иметь несколько ребер):\n",
    "*  Неориентированный граф: `nx.Graph`\n",
    "*  Ориентированный граф: `nx.DiGraph`\n",
    "*  Неориентированный мультиграф: `nx.MultiGraph`\n",
    "*  Ориентированный мультиграф: `nx.MultiDiGraph`"
   ]
  },
  {
   "cell_type": "code",
   "execution_count": null,
   "metadata": {},
   "outputs": [],
   "source": [
    "G = nx.Graph()"
   ]
  },
  {
   "cell_type": "markdown",
   "metadata": {},
   "source": [
    "Networkx имеет отличный набор методов для отображения графов. Напишем функцию, которую будем использовать на вывода графов на экран"
   ]
  },
  {
   "cell_type": "code",
   "execution_count": null,
   "metadata": {},
   "outputs": [],
   "source": [
    "def plot_graph(G, node_weights=None, figsize=(6, 5)):\n",
    "    fig, ax = plt.subplots(1, 1, figsize=figsize)\n",
    "    options = dict(\n",
    "        ax=ax,\n",
    "        font_size=12,\n",
    "        node_size=500,\n",
    "        edgecolors=\"black\",\n",
    "    )\n",
    "    \n",
    "    if node_weights is not None:\n",
    "        # Normalize weights to [0; 1] for colormap\n",
    "        weights = np.array([node_weights.get(node, 0) for node in G.nodes()])\n",
    "        norm = plt.Normalize(vmin=weights.min(), vmax=weights.max())\n",
    "        cmap = plt.cm.viridis\n",
    "        minval = 0.2\n",
    "        maxval = 1.0\n",
    "        n = 100\n",
    "        truncated_cmap = colors.LinearSegmentedColormap.from_list(\n",
    "            \"trunc({n},{a:.2f},{b:.2f})\".format(n=cmap.name, a=minval, b=maxval),\n",
    "            cmap(np.linspace(minval, maxval, n))\n",
    "        )\n",
    "        options[\"node_color\"] = [truncated_cmap(norm(w)) for w in weights]\n",
    "    else:\n",
    "        options[\"node_color\"] = \"white\"\n",
    "    \n",
    "    \n",
    "    pos = nx.spring_layout(G)\n",
    "    nx.draw_networkx(G, pos, **options)\n",
    "    if nx.is_weighted(G):\n",
    "        labels = {e: G.edges[e][\"weight\"] for e in G.edges}\n",
    "        nx.draw_networkx_edge_labels(G, pos, edge_labels=labels)\n",
    "        \n",
    "    if node_weights is not None:\n",
    "        sm = plt.cm.ScalarMappable(cmap=truncated_cmap, norm=norm)\n",
    "        sm.set_array([])\n",
    "        plt.colorbar(sm)"
   ]
  },
  {
   "cell_type": "markdown",
   "metadata": {},
   "source": [
    "Классы графов имеют интерфейс для явного добавления ребер и узлов. Следующие команды, например, строят граф ниже\n",
    "\n",
    "![graph 1](graph_1.png)"
   ]
  },
  {
   "cell_type": "code",
   "execution_count": null,
   "metadata": {},
   "outputs": [],
   "source": [
    "G = nx.Graph()\n",
    "G.add_edge(1, 2)\n",
    "G.add_edge(1, 3)\n",
    "G.add_edge(2, 4)\n",
    "G.add_edge(3, 4)\n",
    "plot_graph(G)"
   ]
  },
  {
   "cell_type": "markdown",
   "metadata": {},
   "source": [
    "Направленный граф создается с помощью класса `nx.DiGraph`:"
   ]
  },
  {
   "cell_type": "code",
   "execution_count": null,
   "metadata": {},
   "outputs": [],
   "source": [
    "G = nx.DiGraph()\n",
    "G.add_edge(1, 2)\n",
    "G.add_edge(1, 3)\n",
    "G.add_edge(2, 4)\n",
    "G.add_edge(3, 4)\n",
    "plot_graph(G)"
   ]
  },
  {
   "cell_type": "markdown",
   "metadata": {},
   "source": [
    "Мы также можем создать граф напрямую из списка ребер:"
   ]
  },
  {
   "cell_type": "code",
   "execution_count": null,
   "metadata": {},
   "outputs": [],
   "source": [
    "G = nx.Graph()\n",
    "edges = [(1, 2), (1, 3), (2, 4), (3, 4)]\n",
    "G.add_edges_from(edges)\n",
    "plot_graph(G)"
   ]
  },
  {
   "cell_type": "markdown",
   "metadata": {},
   "source": [
    "Опционально мы всегда можем сделать граф взвешенным. Для этого в метод `add_edge()` передается ключевое слово `weight`. Тоже можно сделать и используя метод `add_weighted_edges_from()`:"
   ]
  },
  {
   "cell_type": "code",
   "execution_count": null,
   "metadata": {},
   "outputs": [],
   "source": [
    "G = nx.Graph()\n",
    "edges = [(1, 2, 0.5), (1, 3, 0.3), (2, 4, 0.1), (3, 4, 0.7)]\n",
    "G.add_weighted_edges_from(edges)\n",
    "plot_graph(G)"
   ]
  },
  {
   "cell_type": "markdown",
   "metadata": {},
   "source": [
    "Названия узлов могут быть произвольными hashable. Мы также может добавлять произвольные аттрибуты в узлам и ребрам:"
   ]
  },
  {
   "cell_type": "code",
   "execution_count": null,
   "metadata": {},
   "outputs": [],
   "source": [
    "def create_city_graph(directed=False):\n",
    "    G = nx.DiGraph() if directed else nx.Graph()\n",
    "    G.add_nodes_from([\n",
    "        (\"Moscow\", dict(population=13.1)),\n",
    "        (\"Saint Petersburg\", dict(population=5.6)),\n",
    "        (\"Kazan\", dict(population=1.3)),\n",
    "        (\"Novosibirsk\", dict(population=1.6)),\n",
    "    ])\n",
    "    G.add_edge(\"Moscow\", \"Saint Petersburg\", distance=712)\n",
    "    G.add_edge(\"Moscow\", \"Kazan\", distance=816)\n",
    "    G.add_edge(\"Moscow\", \"Novosibirsk\", distance=3356)\n",
    "    return G"
   ]
  },
  {
   "cell_type": "code",
   "execution_count": null,
   "metadata": {},
   "outputs": [],
   "source": [
    "G = create_city_graph(directed=False)\n",
    "plot_graph(G)"
   ]
  },
  {
   "cell_type": "markdown",
   "metadata": {},
   "source": [
    "## Доступ к узлам и ребрам"
   ]
  },
  {
   "cell_type": "markdown",
   "metadata": {},
   "source": [
    "Networkx предоставляет удобный интерфейс для доступа к узлам/ребрам и их аттрибутам, а также позволяет легко итерироваться по ним. Рассмотрим несколько популярных операций"
   ]
  },
  {
   "cell_type": "markdown",
   "metadata": {},
   "source": [
    "Количество узлов в графе:"
   ]
  },
  {
   "cell_type": "code",
   "execution_count": null,
   "metadata": {},
   "outputs": [],
   "source": [
    "len(G)"
   ]
  },
  {
   "cell_type": "markdown",
   "metadata": {},
   "source": [
    "Количество ребер в графе:"
   ]
  },
  {
   "cell_type": "code",
   "execution_count": null,
   "metadata": {},
   "outputs": [],
   "source": [
    "len(G.edges)"
   ]
  },
  {
   "cell_type": "markdown",
   "metadata": {},
   "source": [
    "Проверка, присутствует ли узел в графе:"
   ]
  },
  {
   "cell_type": "code",
   "execution_count": null,
   "metadata": {},
   "outputs": [],
   "source": [
    "\"Moscow\" in G"
   ]
  },
  {
   "cell_type": "code",
   "execution_count": null,
   "metadata": {},
   "outputs": [],
   "source": [
    "G.has_node(\"Moscow\")"
   ]
  },
  {
   "cell_type": "markdown",
   "metadata": {},
   "source": [
    "Проверка, присутствует ли ребро в графе:"
   ]
  },
  {
   "cell_type": "code",
   "execution_count": null,
   "metadata": {},
   "outputs": [],
   "source": [
    "(\"Moscow\", \"Saint Petersburg\") in G.edges"
   ]
  },
  {
   "cell_type": "code",
   "execution_count": null,
   "metadata": {},
   "outputs": [],
   "source": [
    "G.has_edge(\"Moscow\", \"Saint Petersburg\")"
   ]
  },
  {
   "cell_type": "markdown",
   "metadata": {},
   "source": [
    "Итерация по узлам:"
   ]
  },
  {
   "cell_type": "code",
   "execution_count": null,
   "metadata": {},
   "outputs": [],
   "source": [
    "for n in G:\n",
    "    if n != \"Moscow\":\n",
    "        print(n)"
   ]
  },
  {
   "cell_type": "markdown",
   "metadata": {},
   "source": [
    "Итерация по ребрам:"
   ]
  },
  {
   "cell_type": "code",
   "execution_count": null,
   "metadata": {},
   "outputs": [],
   "source": [
    "for n_in, n_out in G.edges:\n",
    "    print(f\"{n_in} -- {n_out}\")"
   ]
  },
  {
   "cell_type": "markdown",
   "metadata": {},
   "source": [
    "Итерацией по ребрам вместе с аттрибутами:"
   ]
  },
  {
   "cell_type": "code",
   "execution_count": null,
   "metadata": {},
   "outputs": [],
   "source": [
    "for n_in, n_out, dist in G.edges.data(\"distance\"):\n",
    "    print(f\"{n_in} -- {n_out} ({dist} km)\")"
   ]
  },
  {
   "cell_type": "markdown",
   "metadata": {},
   "source": [
    "## Доступ к соседям"
   ]
  },
  {
   "cell_type": "markdown",
   "metadata": {},
   "source": [
    "Для начала рассмотрим случай ненаправленного графа.\n",
    "\n",
    "Множество соседей данного узла можно получить, используя `G.neighbors(n)` или `G.adj[n]`. Например, итерация по соседям узла может выглядеть так:"
   ]
  },
  {
   "cell_type": "code",
   "execution_count": null,
   "metadata": {},
   "outputs": [],
   "source": [
    "for n in G.neighbors(\"Moscow\"):\n",
    "    print(n)"
   ]
  },
  {
   "cell_type": "markdown",
   "metadata": {},
   "source": [
    "Или так:"
   ]
  },
  {
   "cell_type": "code",
   "execution_count": null,
   "metadata": {},
   "outputs": [],
   "source": [
    "for n in G.adj[\"Moscow\"]:\n",
    "    print(n)"
   ]
  },
  {
   "cell_type": "markdown",
   "metadata": {},
   "source": [
    "В направленных графах при рассмотрении соседей данного узла, то есть смежных узлов, нам важно разделять in-edges и out-edges. Для получения доступа к in-edges используется метод `G.predecessors()`, а для out-edges метод `G.successors()`."
   ]
  },
  {
   "cell_type": "code",
   "execution_count": null,
   "metadata": {},
   "outputs": [],
   "source": [
    "G = create_city_graph(directed=True)\n",
    "plot_graph(G)"
   ]
  },
  {
   "cell_type": "code",
   "execution_count": null,
   "metadata": {},
   "outputs": [],
   "source": [
    "for n in G.successors(\"Moscow\"):\n",
    "    print(n)"
   ]
  },
  {
   "cell_type": "code",
   "execution_count": null,
   "metadata": {},
   "outputs": [],
   "source": [
    "for n in G.predecessors(\"Saint Petersburg\"):\n",
    "    print(n)"
   ]
  },
  {
   "cell_type": "markdown",
   "metadata": {},
   "source": [
    "Для нахождения степени вершины используется метод `G.degree(n)`, который реализован и для ненаправленных и для направленных графов. Для направленных графов существуют также отдельные методы для полустепеней захода и исхода (indegree и outdegree), `G.in_degree(n)` и `G.out_degree(n)` соответственно."
   ]
  },
  {
   "cell_type": "code",
   "execution_count": null,
   "metadata": {},
   "outputs": [],
   "source": [
    "G.degree(\"Saint Petersburg\")"
   ]
  },
  {
   "cell_type": "code",
   "execution_count": null,
   "metadata": {},
   "outputs": [],
   "source": [
    "G.in_degree(\"Moscow\")"
   ]
  },
  {
   "cell_type": "code",
   "execution_count": null,
   "metadata": {},
   "outputs": [],
   "source": [
    "G.out_degree(\"Moscow\")"
   ]
  },
  {
   "cell_type": "markdown",
   "metadata": {},
   "source": [
    "### Упражнение 1\n",
    "\n",
    "Напишите функцию, вычисляющую среднюю степень соседей для каждого из узлов, у которых в принципе есть соседи"
   ]
  },
  {
   "cell_type": "code",
   "execution_count": null,
   "metadata": {},
   "outputs": [],
   "source": [
    "def avg_neigh_degree(g: nx.Graph) -> dict[int, float]:\n",
    "    data = {}\n",
    "    for n in g.nodes():\n",
    "        if g.degree(n):\n",
    "            data[n] = np.mean([g.degree(i) for i in g[n]])\n",
    "    return data"
   ]
  },
  {
   "cell_type": "code",
   "execution_count": null,
   "metadata": {},
   "outputs": [],
   "source": [
    "G = nx.erdos_renyi_graph(n=10, p=0.2, directed=False)\n",
    "print(avg_neigh_degree(G))\n",
    "plot_graph(G)"
   ]
  },
  {
   "cell_type": "markdown",
   "metadata": {},
   "source": [
    "## Загрузка и сохранение графов"
   ]
  },
  {
   "cell_type": "markdown",
   "metadata": {},
   "source": [
    "Наконец, мы можем сохранять графы в файлы и вычитывать их из них. Для простых задач мы можем использовать `adjlist` и `edgelist` форматы:\n",
    "* `adjlist` является компактным представлением матрицы смежности. Он не подходит для графов с аттрибутами\n",
    "* `edgelist` является списком ребер с их аттрибутами\n",
    "* Для обоих методов названия узлов не должны включать пробелов"
   ]
  },
  {
   "cell_type": "code",
   "execution_count": null,
   "metadata": {},
   "outputs": [],
   "source": [
    "G = nx.Graph()\n",
    "edges = [(1, 2, 0.5), (1, 3, 0.3), (2, 4, 0.1), (3, 4, 0.7)]\n",
    "G.add_weighted_edges_from(edges)\n",
    "nx.write_adjlist(G, \"test_graph.adjlist\")"
   ]
  },
  {
   "cell_type": "code",
   "execution_count": null,
   "metadata": {},
   "outputs": [],
   "source": [
    "nx.write_edgelist(G, \"test_graph.edgelist\")"
   ]
  },
  {
   "cell_type": "markdown",
   "metadata": {},
   "source": [
    "Методы `nx.read_adjlist()` и `nx.read_edgelist()` используются для чтения графов из файлов соответствующих форматов:"
   ]
  },
  {
   "cell_type": "code",
   "execution_count": null,
   "metadata": {},
   "outputs": [],
   "source": [
    "G_1 = nx.read_adjlist(\"test_graph.adjlist\")\n",
    "G_2 = nx.read_edgelist(\"test_graph.edgelist\")"
   ]
  },
  {
   "cell_type": "markdown",
   "metadata": {},
   "source": [
    "### Упражнение 2\n",
    "\n",
    "Для n = 10, 20 и 30 найдите соответствующие значения p, при которых почти наверняка пройзодет невзвешенная перколяция в графе Эрдеша-Реньи G(n, p)."
   ]
  },
  {
   "cell_type": "code",
   "execution_count": null,
   "metadata": {},
   "outputs": [],
   "source": [
    "def estimate_connectivity_probability(n, p, n_trials):\n",
    "    is_connected = np.zeros((n_trials,), dtype=np.int_)\n",
    "    for i in range(n_trials):\n",
    "        G = nx.erdos_renyi_graph(n=n, p=p)\n",
    "        is_connected[i] = nx.is_connected(G)\n",
    "    return np.mean(is_connected)\n",
    "\n",
    "def plot_percolation_curve(n):\n",
    "    p = np.linspace(0, 1, 20)\n",
    "    connectivity_probabilities = np.zeros_like(p, dtype=np.float_)\n",
    "    n_trials = 1000\n",
    "    for i in range(len(p)):\n",
    "        connectivity_probabilities[i] = estimate_connectivity_probability(n=n, p=p[i], n_trials=n_trials)\n",
    "    fig, ax = plt.subplots(1, 1, figsize=(6, 4))\n",
    "    ax.plot(p, connectivity_probabilities, \"o--\")\n",
    "    ax.set_xlabel(r\"p\", fontsize=12)\n",
    "    ax.set_ylabel(r\"perc_prob\", fontsize=12)"
   ]
  },
  {
   "cell_type": "code",
   "execution_count": null,
   "metadata": {},
   "outputs": [],
   "source": [
    "plot_percolation_curve(n=30)"
   ]
  }
 ],
 "metadata": {
  "interpreter": {
   "hash": "2b3714695f2307aafe7da52bf6e53e38bc5469a267534973be7d21c816457eaf"
  },
  "kernelspec": {
   "display_name": "Python 3.9.5 ('base')",
   "language": "python",
   "name": "python395jvsc74a57bd02b3714695f2307aafe7da52bf6e53e38bc5469a267534973be7d21c816457eaf"
  },
  "language_info": {
   "codemirror_mode": {
    "name": "ipython",
    "version": 3
   },
   "file_extension": ".py",
   "mimetype": "text/x-python",
   "name": "python",
   "nbconvert_exporter": "python",
   "pygments_lexer": "ipython3",
   "version": "3.9.5"
  }
 },
 "nbformat": 4,
 "nbformat_minor": 2
}
